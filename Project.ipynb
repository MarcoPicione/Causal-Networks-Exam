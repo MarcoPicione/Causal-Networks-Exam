{
  "cells": [
    {
      "cell_type": "code",
      "execution_count": 1,
      "metadata": {
        "id": "bFEE6cVcamHi"
      },
      "outputs": [],
      "source": [
        "%%capture\n",
        "!apt install python3-dev graphviz libgraphviz-dev pkg-config\n",
        "!pip install networkx pygraphviz matplotlib ges"
      ]
    },
    {
      "cell_type": "code",
      "execution_count": 2,
      "metadata": {
        "id": "2LvgkKcGJtMf"
      },
      "outputs": [],
      "source": [
        "import numpy as np\n",
        "import pandas as pd\n",
        "import networkx as nx\n",
        "import ges\n",
        "\n",
        "from networkx.drawing.nx_agraph import graphviz_layout\n",
        "from typing import List"
      ]
    },
    {
      "cell_type": "code",
      "execution_count": 3,
      "metadata": {
        "id": "mvKlwMvNOrw7",
        "colab": {
          "base_uri": "https://localhost:8080/"
        },
        "outputId": "67d5d5b8-0b89-4fd0-b476-0bc2e8e34b66"
      },
      "outputs": [
        {
          "output_type": "stream",
          "name": "stdout",
          "text": [
            "2.220446049250313e-16\n"
          ]
        }
      ],
      "source": [
        "# Get machine epsilon.\n",
        "e = np.finfo(np.float64).eps\n",
        "print(e)"
      ]
    },
    {
      "cell_type": "markdown",
      "metadata": {
        "id": "kFpk2Fi6bs1-"
      },
      "source": [
        "# Learning Bayesian Networks from Data with Greedy Equivalent Search (GES)"
      ]
    },
    {
      "cell_type": "markdown",
      "metadata": {
        "id": "yNfpPGO0boYG"
      },
      "source": [
        "## Introduction"
      ]
    },
    {
      "cell_type": "markdown",
      "metadata": {
        "id": "wjI63pPptIP0"
      },
      "source": [
        "Following the paper  \"Scaling up the Greedy Equivalence Search algorithm by constraining the search space of equivalence classes\" the GES algorithm was implemented.\n",
        "\n",
        "GES is a local greedy algorithm that, unlike most Bayesian Networks algorithms which work on the space of DAGs, performs the search of the best network in the space of equivalence classes.\n",
        "\n",
        "In order to compare two different networks an evaluation metric is required: in our case, BIC (Bayesian information criterion) was used. BIC is composed by two terms: the Log Likelihood and a penalization term. The Log Likelihood is obtained looking at the probability of every node conditioned on its parents: it is computed as the product between the absolute frequency of a node in a precise level given the configuration of its parents with the logarithm of the ratio of such quantity and the same absolute frequency not looking at the possible levels (sum on all possible levels r). The penalization term takes into account the number of possible configurations, penalizing for more complex models. In conclusion\n",
        "BIC = 2*LL – penalization term\n",
        "\n",
        "Chosen the proper metric, GES ends up the search in a local maxima w.r.t such metric. The algorithm starts with an empty DAG and is composed by two stages:\n",
        "\n",
        "1)\tFES: add dependencies to the model until it reaches a global maximum. This is performed exploiting the insert function which adds to the current CPDAG (complete PDAG which means that every directed edge in the graph are characteristic of the equivalence class), for every non adjacent nodes X and Y, an edge X -> Y. Furthermore it operates also on any subset T_0 (neighbors of Y that are not adjacent to X) by directing the previously undirected edge between T and Y as T -> Y. Once this phase ends, a local maximum is reached and the obtained graph is used as starting point for the second phase.\n",
        "\n",
        "2)\tBES: removes dependencies to the model until it reaches a global maximum following a greedy approach as well. As in the previous phase, the operations are defined through a function. Delete function, unlike insert, works on every adjacent nodes (X and Y) by deleting the edge X -> Y. Like insert function it operates on subsets as well, considering all possible between the neighbors of Y: it converts any undirected edge between H and Y into a directed one Y -> H and any does the same for X leaving only X -> H.\n",
        "\n",
        "During both phases the BIC is evaluated in order to retrieve the best graph for every step.\n",
        "\n",
        "Once this procedure has ended the best model is retrieved.\n"
      ]
    },
    {
      "cell_type": "markdown",
      "metadata": {
        "id": "p5zcVqbGbpte"
      },
      "source": [
        "## Implementation"
      ]
    },
    {
      "cell_type": "markdown",
      "metadata": {
        "id": "6UvSuE-DYKYy"
      },
      "source": [
        "### Read Data and Graph"
      ]
    },
    {
      "cell_type": "code",
      "execution_count": 4,
      "metadata": {
        "id": "4Mu20gfmKpNE"
      },
      "outputs": [],
      "source": [
        "# Read data from file.\n",
        "D = pd.read_csv(\"./final_project_data.csv\", dtype = \"category\")\n",
        "# Build the true graph.\n",
        "G = nx.DiGraph([\n",
        "    (\"A\", \"T\"),\n",
        "    (\"S\", \"L\"),\n",
        "    (\"S\", \"B\"),\n",
        "    (\"B\", \"D\"),\n",
        "    (\"E\", \"D\"),\n",
        "    (\"T\", \"E\"),\n",
        "    (\"L\", \"E\"),\n",
        "    (\"E\", \"X\")\n",
        "])"
      ]
    },
    {
      "cell_type": "code",
      "execution_count": 5,
      "metadata": {
        "id": "PfEtth_saRVv",
        "colab": {
          "base_uri": "https://localhost:8080/",
          "height": 406
        },
        "outputId": "fd5e23f0-4bc9-4714-ac40-f4643791c078"
      },
      "outputs": [
        {
          "output_type": "display_data",
          "data": {
            "text/plain": [
              "<Figure size 640x480 with 1 Axes>"
            ],
            "image/png": "[encoded data removed]"
          },
          "metadata": {}
        }
      ],
      "source": [
        "nx.draw_networkx(G, pos = graphviz_layout(G, prog = \"dot\"), with_labels = True)"
      ]
    },
    {
      "cell_type": "code",
      "source": [
        "# Have a look to the adjacency matrix\n",
        "G_matrix = nx.adjacency_matrix(G).todense()\n",
        "print(G_matrix)"
      ],
      "metadata": {
        "colab": {
          "base_uri": "https://localhost:8080/"
        },
        "id": "SQJthMMlJpCJ",
        "outputId": "3b59db81-7f05-4f5a-d1f7-4515c7331a7d"
      },
      "execution_count": 6,
      "outputs": [
        {
          "output_type": "stream",
          "name": "stdout",
          "text": [
            "[[0 1 0 0 0 0 0 0]\n",
            " [0 0 0 0 0 0 1 0]\n",
            " [0 0 0 1 1 0 0 0]\n",
            " [0 0 0 0 0 0 1 0]\n",
            " [0 0 0 0 0 1 0 0]\n",
            " [0 0 0 0 0 0 0 0]\n",
            " [0 0 0 0 0 1 0 1]\n",
            " [0 0 0 0 0 0 0 0]]\n"
          ]
        }
      ]
    },
    {
      "cell_type": "code",
      "source": [
        "# Have a look to the provided data\n",
        "display(D)"
      ],
      "metadata": {
        "colab": {
          "base_uri": "https://localhost:8080/",
          "height": 424
        },
        "id": "bbWxYSs1ABzQ",
        "outputId": "14defac6-0369-4357-9e5b-7dac0bfc43a5"
      },
      "execution_count": 7,
      "outputs": [
        {
          "output_type": "display_data",
          "data": {
            "text/plain": [
              "       A    S    T   L    B    E    X    D\n",
              "0     no  yes   no  no  yes   no   no  yes\n",
              "1     no  yes   no  no   no   no   no   no\n",
              "2     no   no  yes  no   no  yes  yes  yes\n",
              "3     no   no   no  no  yes   no   no  yes\n",
              "4     no   no   no  no   no   no   no  yes\n",
              "...   ..  ...  ...  ..  ...  ...  ...  ...\n",
              "4995  no   no   no  no  yes   no  yes  yes\n",
              "4996  no   no   no  no   no   no   no   no\n",
              "4997  no   no   no  no   no   no   no   no\n",
              "4998  no  yes   no  no   no   no   no  yes\n",
              "4999  no  yes   no  no  yes   no   no  yes\n",
              "\n",
              "[5000 rows x 8 columns]"
            ],
            "text/html": [
              "\n",
              "  <div id=\"df-c3f0852a-1501-49cb-b1f2-d71849a9607d\" class=\"colab-df-container\">\n",
              "    <div>\n",
              "<style scoped>\n",
              "    .dataframe tbody tr th:only-of-type {\n",
              "        vertical-align: middle;\n",
              "    }\n",
              "\n",
              "    .dataframe tbody tr th {\n",
              "        vertical-align: top;\n",
              "    }\n",
              "\n",
              "    .dataframe thead th {\n",
              "        text-align: right;\n",
              "    }\n",
              "</style>\n",
              "<table border=\"1\" class=\"dataframe\">\n",
              "  <thead>\n",
              "    <tr style=\"text-align: right;\">\n",
              "      <th></th>\n",
              "      <th>A</th>\n",
              "      <th>S</th>\n",
              "      <th>T</th>\n",
              "      <th>L</th>\n",
              "      <th>B</th>\n",
              "      <th>E</th>\n",
              "      <th>X</th>\n",
              "      <th>D</th>\n",
              "    </tr>\n",
              "  </thead>\n",
              "  <tbody>\n",
              "    <tr>\n",
              "      <th>0</th>\n",
              "      <td>no</td>\n",
              "      <td>yes</td>\n",
              "      <td>no</td>\n",
              "      <td>no</td>\n",
              "      <td>yes</td>\n",
              "      <td>no</td>\n",
              "      <td>no</td>\n",
              "      <td>yes</td>\n",
              "    </tr>\n",
              "    <tr>\n",
              "      <th>1</th>\n",
              "      <td>no</td>\n",
              "      <td>yes</td>\n",
              "      <td>no</td>\n",
              "      <td>no</td>\n",
              "      <td>no</td>\n",
              "      <td>no</td>\n",
              "      <td>no</td>\n",
              "      <td>no</td>\n",
              "    </tr>\n",
              "    <tr>\n",
              "      <th>2</th>\n",
              "      <td>no</td>\n",
              "      <td>no</td>\n",
              "      <td>yes</td>\n",
              "      <td>no</td>\n",
              "      <td>no</td>\n",
              "      <td>yes</td>\n",
              "      <td>yes</td>\n",
              "      <td>yes</td>\n",
              "    </tr>\n",
              "    <tr>\n",
              "      <th>3</th>\n",
              "      <td>no</td>\n",
              "      <td>no</td>\n",
              "      <td>no</td>\n",
              "      <td>no</td>\n",
              "      <td>yes</td>\n",
              "      <td>no</td>\n",
              "      <td>no</td>\n",
              "      <td>yes</td>\n",
              "    </tr>\n",
              "    <tr>\n",
              "      <th>4</th>\n",
              "      <td>no</td>\n",
              "      <td>no</td>\n",
              "      <td>no</td>\n",
              "      <td>no</td>\n",
              "      <td>no</td>\n",
              "      <td>no</td>\n",
              "      <td>no</td>\n",
              "      <td>yes</td>\n",
              "    </tr>\n",
              "    <tr>\n",
              "      <th>...</th>\n",
              "      <td>...</td>\n",
              "      <td>...</td>\n",
              "      <td>...</td>\n",
              "      <td>...</td>\n",
              "      <td>...</td>\n",
              "      <td>...</td>\n",
              "      <td>...</td>\n",
              "      <td>...</td>\n",
              "    </tr>\n",
              "    <tr>\n",
              "      <th>4995</th>\n",
              "      <td>no</td>\n",
              "      <td>no</td>\n",
              "      <td>no</td>\n",
              "      <td>no</td>\n",
              "      <td>yes</td>\n",
              "      <td>no</td>\n",
              "      <td>yes</td>\n",
              "      <td>yes</td>\n",
              "    </tr>\n",
              "    <tr>\n",
              "      <th>4996</th>\n",
              "      <td>no</td>\n",
              "      <td>no</td>\n",
              "      <td>no</td>\n",
              "      <td>no</td>\n",
              "      <td>no</td>\n",
              "      <td>no</td>\n",
              "      <td>no</td>\n",
              "      <td>no</td>\n",
              "    </tr>\n",
              "    <tr>\n",
              "      <th>4997</th>\n",
              "      <td>no</td>\n",
              "      <td>no</td>\n",
              "      <td>no</td>\n",
              "      <td>no</td>\n",
              "      <td>no</td>\n",
              "      <td>no</td>\n",
              "      <td>no</td>\n",
              "      <td>no</td>\n",
              "    </tr>\n",
              "    <tr>\n",
              "      <th>4998</th>\n",
              "      <td>no</td>\n",
              "      <td>yes</td>\n",
              "      <td>no</td>\n",
              "      <td>no</td>\n",
              "      <td>no</td>\n",
              "      <td>no</td>\n",
              "      <td>no</td>\n",
              "      <td>yes</td>\n",
              "    </tr>\n",
              "    <tr>\n",
              "      <th>4999</th>\n",
              "      <td>no</td>\n",
              "      <td>yes</td>\n",
              "      <td>no</td>\n",
              "      <td>no</td>\n",
              "      <td>yes</td>\n",
              "      <td>no</td>\n",
              "      <td>no</td>\n",
              "      <td>yes</td>\n",
              "    </tr>\n",
              "  </tbody>\n",
              "</table>\n",
              "<p>5000 rows × 8 columns</p>\n",
              "</div>\n",
              "    <div class=\"colab-df-buttons\">\n",
              "\n",
              "  <div class=\"colab-df-container\">\n",
              "    <button class=\"colab-df-convert\" onclick=\"convertToInteractive('df-c3f0852a-1501-49cb-b1f2-d71849a9607d')\"\n",
              "            title=\"Convert this dataframe to an interactive table.\"\n",
              "            style=\"display:none;\">\n",
              "\n",
              "  <svg xmlns=\"http://www.w3.org/2000/svg\" height=\"24px\" viewBox=\"0 -960 960 960\">\n",
              "    <path d=\"M120-120v-720h720v720H120Zm60-500h600v-160H180v160Zm220 220h160v-160H400v160Zm0 220h160v-160H400v160ZM180-400h160v-160H180v160Zm440 0h160v-160H620v160ZM180-180h160v-160H180v160Zm440 0h160v-160H620v160Z\"/>\n",
              "  </svg>\n",
              "    </button>\n",
              "\n",
              "  <style>\n",
              "    .colab-df-container {\n",
              "      display:flex;\n",
              "      gap: 12px;\n",
              "    }\n",
              "\n",
              "    .colab-df-convert {\n",
              "      background-color: #E8F0FE;\n",
              "      border: none;\n",
              "      border-radius: 50%;\n",
              "      cursor: pointer;\n",
              "      display: none;\n",
              "      fill: #1967D2;\n",
              "      height: 32px;\n",
              "      padding: 0 0 0 0;\n",
              "      width: 32px;\n",
              "    }\n",
              "\n",
              "    .colab-df-convert:hover {\n",
              "      background-color: #E2EBFA;\n",
              "      box-shadow: 0px 1px 2px rgba(60, 64, 67, 0.3), 0px 1px 3px 1px rgba(60, 64, 67, 0.15);\n",
              "      fill: #174EA6;\n",
              "    }\n",
              "\n",
              "    .colab-df-buttons div {\n",
              "      margin-bottom: 4px;\n",
              "    }\n",
              "\n",
              "    [theme=dark] .colab-df-convert {\n",
              "      background-color: #3B4455;\n",
              "      fill: #D2E3FC;\n",
              "    }\n",
              "\n",
              "    [theme=dark] .colab-df-convert:hover {\n",
              "      background-color: #434B5C;\n",
              "      box-shadow: 0px 1px 3px 1px rgba(0, 0, 0, 0.15);\n",
              "      filter: drop-shadow(0px 1px 2px rgba(0, 0, 0, 0.3));\n",
              "      fill: #FFFFFF;\n",
              "    }\n",
              "  </style>\n",
              "\n",
              "    <script>\n",
              "      const buttonEl =\n",
              "        document.querySelector('#df-c3f0852a-1501-49cb-b1f2-d71849a9607d button.colab-df-convert');\n",
              "      buttonEl.style.display =\n",
              "        google.colab.kernel.accessAllowed ? 'block' : 'none';\n",
              "\n",
              "      async function convertToInteractive(key) {\n",
              "        const element = document.querySelector('#df-c3f0852a-1501-49cb-b1f2-d71849a9607d');\n",
              "        const dataTable =\n",
              "          await google.colab.kernel.invokeFunction('convertToInteractive',\n",
              "                                                    [key], {});\n",
              "        if (!dataTable) return;\n",
              "\n",
              "        const docLinkHtml = 'Like what you see? Visit the ' +\n",
              "          '<a target=\"_blank\" href=https://colab.research.google.com/notebooks/data_table.ipynb>data table notebook</a>'\n",
              "          + ' to learn more about interactive tables.';\n",
              "        element.innerHTML = '';\n",
              "        dataTable['output_type'] = 'display_data';\n",
              "        await google.colab.output.renderOutput(dataTable, element);\n",
              "        const docLink = document.createElement('div');\n",
              "        docLink.innerHTML = docLinkHtml;\n",
              "        element.appendChild(docLink);\n",
              "      }\n",
              "    </script>\n",
              "  </div>\n",
              "\n",
              "\n",
              "<div id=\"df-9aa72f5c-2aea-4a27-9a0a-b21759e3c6fb\">\n",
              "  <button class=\"colab-df-quickchart\" onclick=\"quickchart('df-9aa72f5c-2aea-4a27-9a0a-b21759e3c6fb')\"\n",
              "            title=\"Suggest charts\"\n",
              "            style=\"display:none;\">\n",
              "\n",
              "<svg xmlns=\"http://www.w3.org/2000/svg\" height=\"24px\"viewBox=\"0 0 24 24\"\n",
              "     width=\"24px\">\n",
              "    <g>\n",
              "        <path d=\"M19 3H5c-1.1 0-2 .9-2 2v14c0 1.1.9 2 2 2h14c1.1 0 2-.9 2-2V5c0-1.1-.9-2-2-2zM9 17H7v-7h2v7zm4 0h-2V7h2v10zm4 0h-2v-4h2v4z\"/>\n",
              "    </g>\n",
              "</svg>\n",
              "  </button>\n",
              "\n",
              "<style>\n",
              "  .colab-df-quickchart {\n",
              "      --bg-color: #E8F0FE;\n",
              "      --fill-color: #1967D2;\n",
              "      --hover-bg-color: #E2EBFA;\n",
              "      --hover-fill-color: #174EA6;\n",
              "      --disabled-fill-color: #AAA;\n",
              "      --disabled-bg-color: #DDD;\n",
              "  }\n",
              "\n",
              "  [theme=dark] .colab-df-quickchart {\n",
              "      --bg-color: #3B4455;\n",
              "      --fill-color: #D2E3FC;\n",
              "      --hover-bg-color: #434B5C;\n",
              "      --hover-fill-color: #FFFFFF;\n",
              "      --disabled-bg-color: #3B4455;\n",
              "      --disabled-fill-color: #666;\n",
              "  }\n",
              "\n",
              "  .colab-df-quickchart {\n",
              "    background-color: var(--bg-color);\n",
              "    border: none;\n",
              "    border-radius: 50%;\n",
              "    cursor: pointer;\n",
              "    display: none;\n",
              "    fill: var(--fill-color);\n",
              "    height: 32px;\n",
              "    padding: 0;\n",
              "    width: 32px;\n",
              "  }\n",
              "\n",
              "  .colab-df-quickchart:hover {\n",
              "    background-color: var(--hover-bg-color);\n",
              "    box-shadow: 0 1px 2px rgba(60, 64, 67, 0.3), 0 1px 3px 1px rgba(60, 64, 67, 0.15);\n",
              "    fill: var(--button-hover-fill-color);\n",
              "  }\n",
              "\n",
              "  .colab-df-quickchart-complete:disabled,\n",
              "  .colab-df-quickchart-complete:disabled:hover {\n",
              "    background-color: var(--disabled-bg-color);\n",
              "    fill: var(--disabled-fill-color);\n",
              "    box-shadow: none;\n",
              "  }\n",
              "\n",
              "  .colab-df-spinner {\n",
              "    border: 2px solid var(--fill-color);\n",
              "    border-color: transparent;\n",
              "    border-bottom-color: var(--fill-color);\n",
              "    animation:\n",
              "      spin 1s steps(1) infinite;\n",
              "  }\n",
              "\n",
              "  @keyframes spin {\n",
              "    0% {\n",
              "      border-color: transparent;\n",
              "      border-bottom-color: var(--fill-color);\n",
              "      border-left-color: var(--fill-color);\n",
              "    }\n",
              "    20% {\n",
              "      border-color: transparent;\n",
              "      border-left-color: var(--fill-color);\n",
              "      border-top-color: var(--fill-color);\n",
              "    }\n",
              "    30% {\n",
              "      border-color: transparent;\n",
              "      border-left-color: var(--fill-color);\n",
              "      border-top-color: var(--fill-color);\n",
              "      border-right-color: var(--fill-color);\n",
              "    }\n",
              "    40% {\n",
              "      border-color: transparent;\n",
              "      border-right-color: var(--fill-color);\n",
              "      border-top-color: var(--fill-color);\n",
              "    }\n",
              "    60% {\n",
              "      border-color: transparent;\n",
              "      border-right-color: var(--fill-color);\n",
              "    }\n",
              "    80% {\n",
              "      border-color: transparent;\n",
              "      border-right-color: var(--fill-color);\n",
              "      border-bottom-color: var(--fill-color);\n",
              "    }\n",
              "    90% {\n",
              "      border-color: transparent;\n",
              "      border-bottom-color: var(--fill-color);\n",
              "    }\n",
              "  }\n",
              "</style>\n",
              "\n",
              "  <script>\n",
              "    async function quickchart(key) {\n",
              "      const quickchartButtonEl =\n",
              "        document.querySelector('#' + key + ' button');\n",
              "      quickchartButtonEl.disabled = true;  // To prevent multiple clicks.\n",
              "      quickchartButtonEl.classList.add('colab-df-spinner');\n",
              "      try {\n",
              "        const charts = await google.colab.kernel.invokeFunction(\n",
              "            'suggestCharts', [key], {});\n",
              "      } catch (error) {\n",
              "        console.error('Error during call to suggestCharts:', error);\n",
              "      }\n",
              "      quickchartButtonEl.classList.remove('colab-df-spinner');\n",
              "      quickchartButtonEl.classList.add('colab-df-quickchart-complete');\n",
              "    }\n",
              "    (() => {\n",
              "      let quickchartButtonEl =\n",
              "        document.querySelector('#df-9aa72f5c-2aea-4a27-9a0a-b21759e3c6fb button');\n",
              "      quickchartButtonEl.style.display =\n",
              "        google.colab.kernel.accessAllowed ? 'block' : 'none';\n",
              "    })();\n",
              "  </script>\n",
              "</div>\n",
              "    </div>\n",
              "  </div>\n"
            ]
          },
          "metadata": {}
        }
      ]
    },
    {
      "cell_type": "markdown",
      "metadata": {
        "id": "amsIARH0U0ON"
      },
      "source": [
        "### Computing the Absolute Frequencies"
      ]
    },
    {
      "cell_type": "code",
      "source": [
        "# Decide if you are cool or not. Remember: being cool requires time. A lot\n",
        "ImCool = False"
      ],
      "metadata": {
        "id": "gt8rsZ9zS4Wa"
      },
      "execution_count": 8,
      "outputs": []
    },
    {
      "cell_type": "code",
      "execution_count": 9,
      "metadata": {
        "id": "wp7863ExJzQ-"
      },
      "outputs": [],
      "source": [
        "# Compute the absolute frequencies N(X, Pa(X) | D).\n",
        "if ImCool:\n",
        "\n",
        "  # Slow implementation of the required function without using pandas functions\n",
        "  # This was my first attempt and it is cooler than the other one\n",
        "\n",
        "  def N(X: str, Z: List[str], D: pd.DataFrame) -> np.ndarray:\n",
        "    # Create the table\n",
        "    n, _ = D.shape\n",
        "    q_X = 2 ** len(Z) if len(Z) != 0 else 1\n",
        "    af = np.zeros((q_X, 2))\n",
        "\n",
        "    # The idea is to create a binary string to map every possible combination\n",
        "    # of \"yes\" and \"no\" to the correct entry of the matrix\n",
        "\n",
        "    for k in range(n):\n",
        "      s = \"\"\n",
        "      row = D.iloc[k]\n",
        "      if len(Z) == 0:\n",
        "        s = \"0\"\n",
        "      else:\n",
        "        for p in Z:\n",
        "          s += \"1\" if row[p] == \"yes\" else \"0\"\n",
        "\n",
        "      # Cast the string to base 10\n",
        "      s = int(s, 2)\n",
        "      i = 1 if row[X] == \"yes\" else 0\n",
        "      af[s][i] += 1\n",
        "    return af\n",
        "\n",
        "else:\n",
        "\n",
        "  # Fast implementation of the required function using pandas functions\n",
        "  # This is way less cooler than the other one, but it's fast\n",
        "\n",
        "  def N(X: str, Z: List[str], D: pd.DataFrame) -> np.ndarray:\n",
        "    if Z == []:\n",
        "      return np.array([D[X].value_counts()])\n",
        "    result = pd.crosstab(D[X], [D[z] for z in Z], dropna = False)\n",
        "    return np.array(result).T"
      ]
    },
    {
      "cell_type": "code",
      "execution_count": 10,
      "metadata": {
        "id": "4q2TpDPZUCYj"
      },
      "outputs": [],
      "source": [
        "# Compute N(A | D).\n",
        "np.testing.assert_equal(\n",
        "    N(\"A\", [], D),\n",
        "    np.array([[4958,   42]])\n",
        ")"
      ]
    },
    {
      "cell_type": "code",
      "execution_count": 11,
      "metadata": {
        "id": "1sHR1CA-ULRS"
      },
      "outputs": [],
      "source": [
        "# Compute N(A, [L] | D).\n",
        "np.testing.assert_equal(\n",
        "    N(\"A\", [\"L\"], D),\n",
        "    np.array([\n",
        "        [4632,   38],\n",
        "        [ 326,    4]\n",
        "    ])\n",
        ")"
      ]
    },
    {
      "cell_type": "code",
      "execution_count": 12,
      "metadata": {
        "id": "k8MIKC1sK9g9"
      },
      "outputs": [],
      "source": [
        "# Compute N(A, [L, T] | D).\n",
        "np.testing.assert_equal(\n",
        "    N(\"A\", [\"L\", \"T\"], D),\n",
        "    np.array([\n",
        "        [4594,   36],\n",
        "        [  38,    2],\n",
        "        [ 322,    4],\n",
        "        [   4,    0]\n",
        "    ])\n",
        ")"
      ]
    },
    {
      "cell_type": "markdown",
      "metadata": {
        "id": "FX67s0JXUwP2"
      },
      "source": [
        "### Computing the Log-Likelihood\n",
        "\n"
      ]
    },
    {
      "cell_type": "code",
      "execution_count": 13,
      "metadata": {
        "id": "cmF6OYiVN1T2"
      },
      "outputs": [],
      "source": [
        "# Compute the log-likelihood ll(X, Pa(X) | D).\n",
        "\n",
        "def ll(X: str, Z: List[str], D: pd.DataFrame) -> float:\n",
        "    sum = 0\n",
        "\n",
        "    # Useful to avoid -inf log\n",
        "    eps = 1e-30\n",
        "\n",
        "    af = N(X, Z, D)\n",
        "\n",
        "    # Possible r values are just \"yes\" or \"no\"\n",
        "    r_i = 2\n",
        "\n",
        "    # Possible combinations of parents\n",
        "    q_i = 2 ** len(Z)\n",
        "\n",
        "    for j in range(q_i):\n",
        "      den = np.sum(af[j])\n",
        "      if den != 0:\n",
        "        for k in range(r_i):\n",
        "          sum += af[j][k] * (np.log(af[j][k] / den + eps))\n",
        "    return sum"
      ]
    },
    {
      "cell_type": "code",
      "execution_count": 14,
      "metadata": {
        "id": "Tt0rCwR0Pvjh"
      },
      "outputs": [],
      "source": [
        "# Compute ll(A | D).\n",
        "np.testing.assert_approx_equal(\n",
        "    ll(\"A\", [], D),\n",
        "    -242.5631\n",
        ")"
      ]
    },
    {
      "cell_type": "code",
      "execution_count": 15,
      "metadata": {
        "id": "vs1WetrHRB0A"
      },
      "outputs": [],
      "source": [
        "# Compute ll(A, [L] | D).\n",
        "np.testing.assert_approx_equal(\n",
        "    ll(\"A\", [\"L\"], D),\n",
        "    -242.3023\n",
        ")"
      ]
    },
    {
      "cell_type": "code",
      "execution_count": 16,
      "metadata": {
        "id": "BYnoZWJjU-32"
      },
      "outputs": [],
      "source": [
        "# Compute ll(A, [L, T] | D).\n",
        "np.testing.assert_approx_equal(\n",
        "    ll(\"A\", [\"L\", \"T\"], D),\n",
        "    -240.2226\n",
        ")"
      ]
    },
    {
      "cell_type": "code",
      "execution_count": 17,
      "metadata": {
        "id": "NX6wM9ClWsNJ"
      },
      "outputs": [],
      "source": [
        "# Compute the Log-Likelihood LL(G | D).\n",
        "def LL(G: nx.DiGraph, D: pd.DataFrame) -> float:\n",
        "    sum = 0\n",
        "    for n in list(D.keys()):\n",
        "      Z = list(G.predecessors(n))\n",
        "      sum += ll(n, Z, D)\n",
        "    return sum"
      ]
    },
    {
      "cell_type": "code",
      "execution_count": 18,
      "metadata": {
        "id": "mAdLfgKna7iC"
      },
      "outputs": [],
      "source": [
        "# Compute LL(G | D).\n",
        "np.testing.assert_approx_equal(\n",
        "    LL(G, D),\n",
        "    -11033.0871\n",
        ")"
      ]
    },
    {
      "cell_type": "markdown",
      "metadata": {
        "id": "kBRve3I0tfoR"
      },
      "source": [
        "### Computing the BIC"
      ]
    },
    {
      "cell_type": "code",
      "execution_count": 19,
      "metadata": {
        "id": "xKy4EcD3tkgU"
      },
      "outputs": [],
      "source": [
        "# Compute the Bayesian Information Criterion BIC(G | D).\n",
        "\n",
        "def BIC(G: nx.DiGraph, D: pd.DataFrame) -> float:\n",
        "    l_dataset , d = D.shape\n",
        "    sum = 0\n",
        "    r_i = 2\n",
        "    for n in G.nodes:\n",
        "      q_i = 2 ** len(list(G.predecessors(n)))\n",
        "      sum += q_i * r_i\n",
        "\n",
        "    return 2 * LL(G, D) - np.log(l_dataset) * sum"
      ]
    },
    {
      "cell_type": "code",
      "source": [
        "# BIC of the original configuration\n",
        "BIC(G,D)"
      ],
      "metadata": {
        "colab": {
          "base_uri": "https://localhost:8080/"
        },
        "id": "wmyQ8HxEMiAe",
        "outputId": "0eb2ff2f-dcfe-4d46-c0b3-86d7dc13166c"
      },
      "execution_count": 20,
      "outputs": [
        {
          "output_type": "execute_result",
          "data": {
            "text/plain": [
              "-22372.7932224327"
            ]
          },
          "metadata": {},
          "execution_count": 20
        }
      ]
    },
    {
      "cell_type": "markdown",
      "metadata": {
        "id": "xuvvdrESbSQk"
      },
      "source": [
        "### Implementing GES"
      ]
    },
    {
      "cell_type": "code",
      "source": [
        "# If it's still not clear at this point i like to implement things on my own\n",
        "# Follow several useful functions\n",
        "\n",
        "# This function generates all possible binary numbers of dim digits\n",
        "# This will be useful to generate all possible subsets\n",
        "\n",
        "def bin_numbers_Ndigits(dim: int):\n",
        "  res = list()\n",
        "  if dim != 0:\n",
        "    for i in range(2**dim):\n",
        "      n = format(i, \"b\")\n",
        "      while len(n) != dim:\n",
        "        n = '0' + n\n",
        "      res.append(n)\n",
        "  return res\n",
        "\n",
        "# This functions generates all possible subsets using the elements in the\n",
        "# provided list. The idea is to keep only the elements assosiated to a 1 in a\n",
        "# binary string. All the string combinations are generated by the previous\n",
        "# function\n",
        "\n",
        "def subsets(T_0: list):\n",
        "  res = list()\n",
        "  for n in bin_numbers_Ndigits(len(T_0)):\n",
        "    l = list()\n",
        "    for i, c in enumerate(n):\n",
        "      if c == '1': l.append(T_0[i])\n",
        "    res.append(l)\n",
        "  return res\n",
        "\n",
        "# Returns all neighbors of a given node\n",
        "\n",
        "def neighbors(X: int, M: np.ndarray) -> list:\n",
        "    neigh = list()\n",
        "    for i in range(len(M)):\n",
        "      if i == X: continue\n",
        "      if (M [X][i] & M [i][X]): neigh.append(i)\n",
        "    return neigh\n",
        "\n",
        "# Returns all adjacents of a given node\n",
        "\n",
        "def adjacent(X: int, M: np.ndarray) -> list:\n",
        "    adj = list()\n",
        "    for i in range(len(M)):\n",
        "      if i == X: continue\n",
        "      if (M [X][i] | M [i][X]): adj.append(i)\n",
        "    return adj\n",
        "\n",
        "# Compute T0, the list of neighbors of Y which are not adjacent to X\n",
        "\n",
        "def compute_T0(neigh_Y: list, X_adj_nodes: list) -> list:\n",
        "    Ts = list()\n",
        "    for i in neigh_Y:\n",
        "      if i not in X_adj_nodes:\n",
        "        Ts.append(i)\n",
        "    return Ts\n",
        "\n",
        "# Generate all possible subsets of T0, paying attention to the right structure\n",
        "# if T0 is empty\n",
        "\n",
        "def compute_subsets(T_0: list) -> list:\n",
        "    if len(T_0) == 0:\n",
        "      T_0.append([])\n",
        "      subsets_list = [[]]\n",
        "    else:\n",
        "      subsets_list = subsets(T_0)\n",
        "    return subsets_list"
      ],
      "metadata": {
        "id": "CMmkEa7qF9eO"
      },
      "execution_count": 21,
      "outputs": []
    },
    {
      "cell_type": "code",
      "source": [
        "# Insert function as described in the introduction, converts directed edges\n",
        "# into undirected ones, operating also on all subsets T\n",
        "\n",
        "def insert(M: np.ndarray, X: int, Y: int, T: list) -> np.ndarray:\n",
        "    # Insert X -> Y\n",
        "    M[X][Y] = 1\n",
        "\n",
        "    # Leaves only T -> Y converting the previous undirected edge into a directed\n",
        "    # one\n",
        "    for t in T:\n",
        "      M[Y][t] = 0\n",
        "    return M\n",
        "\n",
        "# Returns the best edge to add together with the best subset\n",
        "\n",
        "def FS(M: np.ndarray, D: pd.DataFrame) -> tuple:\n",
        "    edge = None\n",
        "    subset = None\n",
        "    best = -np.inf\n",
        "    edge_list = list(np.arange(len(M)))\n",
        "\n",
        "    for X in edge_list:\n",
        "      X_adj_nodes = adjacent(X, M)\n",
        "      for Y in edge_list:\n",
        "        neigh_Y = neighbors(Y, M)\n",
        "\n",
        "        if X == Y or Y in X_adj_nodes: break\n",
        "        T_0 = compute_T0(neigh_Y, X_adj_nodes)\n",
        "        subsets_list = compute_subsets(T_0)\n",
        "\n",
        "        for T in subsets_list:\n",
        "          M_hyp = M.copy()\n",
        "          M_hyp = insert(M_hyp, X, Y, T)\n",
        "          try:\n",
        "            # If the pdag can't be extended then the subset must be discarded\n",
        "            G_hyp = ges.utils.pdag_to_dag(M_hyp, debug=False)\n",
        "          except:\n",
        "            pass\n",
        "          else:\n",
        "            bic_hyp = BIC(nx.from_numpy_array(G_hyp, create_using=nx.DiGraph), D)\n",
        "            if bic_hyp > best:\n",
        "              best = bic_hyp\n",
        "              edge = (X, Y)\n",
        "              subset = T\n",
        "    return (edge, subset)\n",
        "\n",
        "# Until a better graph is found keep adding edges using insert function\n",
        "\n",
        "def FES(M: np.ndarray, D: pd.DataFrame) -> np.ndarray:\n",
        "    while(True):\n",
        "      edge, subset = FS(M, D)\n",
        "      if edge == None: break\n",
        "      M = insert(M, edge[0], edge[1], subset)\n",
        "\n",
        "      # Transform the current pdag into a cpdag\n",
        "      M = ges.utils.pdag_to_cpdag(M)\n",
        "    return M"
      ],
      "metadata": {
        "id": "NhYnfszA-vDJ"
      },
      "execution_count": 22,
      "outputs": []
    },
    {
      "cell_type": "code",
      "source": [
        "# Delete function as described in the introduction, converts directed edges\n",
        "# into undirected ones, operating also on all subsets T\n",
        "\n",
        "def delete(M: np.ndarray, X: int, Y: int, T: list) -> np.ndarray:\n",
        "    # Deletes the edge between X and Y\n",
        "    M[X][Y] = 0\n",
        "    M[Y][X] = 0\n",
        "\n",
        "    # Converts the previous undirected edges into a directed ones\n",
        "    for t in T:\n",
        "      M[t][Y] = 0\n",
        "      M[t][X] = 0\n",
        "    return M\n",
        "\n",
        "# Returns the best edge to be removed together with the best subset\n",
        "\n",
        "def BS(M: np.ndarray, D: pd.DataFrame) -> tuple:\n",
        "    edge = None\n",
        "    subset = None\n",
        "    best = -np.inf\n",
        "\n",
        "    edge_list = list(np.arange(len(M)))\n",
        "    for X in edge_list:\n",
        "      X_adj_nodes = adjacent(X, M)\n",
        "      for Y in edge_list:\n",
        "        if X == Y or Y not in X_adj_nodes: break\n",
        "        neigh_Y = neighbors(Y, M)\n",
        "        subsets_list = compute_subsets(neigh_Y)\n",
        "\n",
        "        for H in subsets_list:\n",
        "          M_hyp = M.copy()\n",
        "          M_hyp = delete(M_hyp, X, Y, H)\n",
        "          try:\n",
        "            G_hyp = ges.utils.pdag_to_dag(M_hyp, debug=False)\n",
        "          except:\n",
        "            pass\n",
        "          else:\n",
        "            bic_hyp = BIC(nx.from_numpy_array(G_hyp, create_using=nx.DiGraph), D)\n",
        "            if bic_hyp > best:\n",
        "              best = bic_hyp\n",
        "              edge = (X, Y)\n",
        "              subset = H\n",
        "    return (edge, subset)\n",
        "\n",
        "# Until a better graph is found keep removing edges using delete function\n",
        "\n",
        "def BES(M: np.ndarray, D: pd.DataFrame) -> np.ndarray:\n",
        "  while(True):\n",
        "      edge, subset = BS(M, D)\n",
        "      if edge == None: break\n",
        "      M = delete(M, edge[0], edge[1], subset)\n",
        "\n",
        "      # Transform the current pdag into a cpdag\n",
        "      M = ges.utils.pdag_to_cpdag(M)\n",
        "  return M"
      ],
      "metadata": {
        "id": "RSKnnCDd-OVM"
      },
      "execution_count": 23,
      "outputs": []
    },
    {
      "cell_type": "code",
      "execution_count": 24,
      "metadata": {
        "id": "LUplO4qDcTFq"
      },
      "outputs": [],
      "source": [
        "# GES implementation\n",
        "\n",
        "def GES(D: pd.DataFrame) -> np.ndarray:\n",
        "    _ , d = D.shape\n",
        "    # Empty graph\n",
        "    eps = np.zeros((d, d), dtype=int)\n",
        "    eps = FES(eps, D)\n",
        "    eps = BES(eps, D)\n",
        "    return eps"
      ]
    },
    {
      "cell_type": "code",
      "execution_count": 25,
      "metadata": {
        "id": "KSmiCV42c-IQ"
      },
      "outputs": [],
      "source": [
        "# Converts letters into numbers for simplicity\n",
        "D.columns = np.arange(D.shape[1])\n",
        "# Call GES on D\n",
        "E_matrix = GES(D)"
      ]
    },
    {
      "cell_type": "code",
      "source": [
        "print(E_matrix)\n",
        "E = nx.from_numpy_array(E_matrix, create_using=nx.DiGraph)\n",
        "mapping = {0: \"A\", 1: \"T\", 2: \"S\", 3: \"L\", 4: \"B\", 5: \"D\", 6: \"E\", 7: \"X\"}\n",
        "\n",
        "# Converts numbers into letters for simplicity\n",
        "E = nx.relabel_nodes(E, mapping)"
      ],
      "metadata": {
        "colab": {
          "base_uri": "https://localhost:8080/"
        },
        "id": "WUmwCFCR3PbC",
        "outputId": "38bb52d3-d11c-4be0-a811-df97d5c0c5f9"
      },
      "execution_count": 26,
      "outputs": [
        {
          "output_type": "stream",
          "name": "stdout",
          "text": [
            "[[0 0 0 0 0 0 0 0]\n",
            " [0 0 0 1 1 1 0 1]\n",
            " [0 0 0 0 0 1 0 0]\n",
            " [0 1 0 0 0 1 0 1]\n",
            " [0 0 0 0 0 0 0 0]\n",
            " [0 1 1 1 0 0 1 0]\n",
            " [0 0 0 0 1 1 0 0]\n",
            " [0 1 0 1 1 0 0 0]]\n"
          ]
        }
      ]
    },
    {
      "cell_type": "code",
      "execution_count": 27,
      "metadata": {
        "id": "bfqerefihDMm",
        "colab": {
          "base_uri": "https://localhost:8080/",
          "height": 406
        },
        "outputId": "85916656-6d47-4fbf-c5c2-69a3e43189c0"
      },
      "outputs": [
        {
          "output_type": "display_data",
          "data": {
            "text/plain": [
              "<Figure size 640x480 with 1 Axes>"
            ],
            "image/png": "[encoded data removed]"
          },
          "metadata": {}
        }
      ],
      "source": [
        "nx.draw_networkx(E, pos = graphviz_layout(E, prog = \"dot\"), with_labels = True)"
      ]
    },
    {
      "cell_type": "markdown",
      "metadata": {
        "id": "JY7Wvz9UtIQJ"
      },
      "source": [
        "### Testing GES"
      ]
    },
    {
      "cell_type": "code",
      "source": [
        "# Same edges\n",
        "def same_edges(G_edges: list, E_edges: list) -> list:\n",
        "  same_edges = list()\n",
        "  for i in G_edges:\n",
        "    if i in E_edges:\n",
        "      same_edges.append(i)\n",
        "  return same_edges\n",
        "\n",
        "# Missing edges\n",
        "def missing_edges(G_edges: list, E_edges: list) -> list:\n",
        "  miss_edges = list()\n",
        "  for i in G_edges:\n",
        "    if i not in E_edges:\n",
        "      miss_edges.append(i)\n",
        "  return miss_edges\n",
        "\n",
        "# Reversed edges\n",
        "def reversed_edges(G_edges: list, E_edges: list) -> list:\n",
        "  reversed_edges = list()\n",
        "  for i in G_edges:\n",
        "    for j in E_edges:\n",
        "      # Check if is reversed\n",
        "      if (i[0] == j[1]) & (i[1] == j[0]):\n",
        "        # Check it is not undirected edge\n",
        "        if i in E_edges or j in G_edges: continue\n",
        "        reversed_edges.append((i[0], i[1]))\n",
        "  return reversed_edges"
      ],
      "metadata": {
        "id": "xgrPsFagRD4B"
      },
      "execution_count": 28,
      "outputs": []
    },
    {
      "cell_type": "code",
      "source": [
        "G_edges = G.edges\n",
        "E_edges = E.edges\n",
        "\n",
        "print(\"G edges: \", G_edges)\n",
        "print(\"E edges: \", E_edges)\n",
        "print(\"\\n\")\n",
        "print(\"There are \", len(same_edges(G_edges, E_edges)), \"same edges and they are: \", same_edges(G_edges, E_edges))\n",
        "print(\"There are \", len(missing_edges(G_edges, E_edges)), \"missing edges and they are: \", missing_edges(G_edges, E_edges))\n",
        "print(\"There are \", len(missing_edges(E_edges, G_edges)), \"extra edges and they are: \", missing_edges(E_edges, G_edges))\n",
        "print(\"There are \", len(reversed_edges(G_edges, E_edges)), \"reversed edges and they are: \", reversed_edges(G_edges, E_edges))"
      ],
      "metadata": {
        "colab": {
          "base_uri": "https://localhost:8080/"
        },
        "id": "4T0mlFXMY6tw",
        "outputId": "407b2cdf-0089-4acc-8fc8-6462801c1982"
      },
      "execution_count": 29,
      "outputs": [
        {
          "output_type": "stream",
          "name": "stdout",
          "text": [
            "G edges:  [('A', 'T'), ('T', 'E'), ('S', 'L'), ('S', 'B'), ('L', 'E'), ('B', 'D'), ('E', 'D'), ('E', 'X')]\n",
            "E edges:  [('T', 'L'), ('T', 'B'), ('T', 'D'), ('T', 'X'), ('S', 'D'), ('L', 'T'), ('L', 'D'), ('L', 'X'), ('D', 'T'), ('D', 'S'), ('D', 'L'), ('D', 'E'), ('E', 'B'), ('E', 'D'), ('X', 'T'), ('X', 'L'), ('X', 'B')]\n",
            "\n",
            "\n",
            "There are  1 same edges and they are:  [('E', 'D')]\n",
            "There are  7 missing edges and they are:  [('A', 'T'), ('T', 'E'), ('S', 'L'), ('S', 'B'), ('L', 'E'), ('B', 'D'), ('E', 'X')]\n",
            "There are  16 extra edges and they are:  [('T', 'L'), ('T', 'B'), ('T', 'D'), ('T', 'X'), ('S', 'D'), ('L', 'T'), ('L', 'D'), ('L', 'X'), ('D', 'T'), ('D', 'S'), ('D', 'L'), ('D', 'E'), ('E', 'B'), ('X', 'T'), ('X', 'L'), ('X', 'B')]\n",
            "There are  0 reversed edges and they are:  []\n"
          ]
        }
      ]
    },
    {
      "cell_type": "markdown",
      "source": [
        "# Paper algorithm"
      ],
      "metadata": {
        "id": "zipwiyI0i4GC"
      }
    },
    {
      "cell_type": "markdown",
      "source": [
        "Implementation of the algorithm in the paper \"Combining knowledge from different sources in causal probabilistic models\". Converts a graph in a linearly ordered one for a given node"
      ],
      "metadata": {
        "id": "1NQOe_770sYc"
      }
    },
    {
      "cell_type": "code",
      "source": [
        "def order_nodes(G: nx.DiGraph) -> list:\n",
        "    ordered = list()\n",
        "    while(len(list(G.nodes)) != 0):\n",
        "      for i in list(G.nodes):\n",
        "        if(len(list(G.predecessors(i))) == 0):\n",
        "          ordered.append(i)\n",
        "          G.remove_node(i)\n",
        "    return ordered"
      ],
      "metadata": {
        "id": "g2Ni6bbljaG-"
      },
      "execution_count": 30,
      "outputs": []
    },
    {
      "cell_type": "code",
      "source": [
        "def linearly_ordered(G: nx.DiGraph, X_s: str) -> nx.DiGraph:\n",
        "    ordered_list = order_nodes(G.copy())\n",
        "    A = X_s\n",
        "    while(len(list(G.predecessors(A))) != 0):\n",
        "      for i in ordered_list[::-1]:\n",
        "        if i in list(G.predecessors(A)):\n",
        "          B = i\n",
        "          break\n",
        "      l = list(G.predecessors(A))\n",
        "      l.remove(B)\n",
        "      for C in l:\n",
        "        if not G.has_edge(C, B):\n",
        "          G.add_edge(C, B)\n",
        "      A = B\n",
        "    G.remove_node(X_s)\n",
        "    return G"
      ],
      "metadata": {
        "id": "326_a76BnGqA"
      },
      "execution_count": 36,
      "outputs": []
    },
    {
      "cell_type": "code",
      "source": [
        "Gen_pop_model = nx.DiGraph([\n",
        "                            (\"D\", \"S1\"),\n",
        "                            (\"D\", \"S2\"),\n",
        "                            (\"S1\", \"H\"),\n",
        "                            (\"S2\", \"H\")\n",
        "                        ])\n",
        "nx.draw_networkx(Gen_pop_model, pos = graphviz_layout(Gen_pop_model, prog = \"dot\"), with_labels = True)"
      ],
      "metadata": {
        "colab": {
          "base_uri": "https://localhost:8080/",
          "height": 406
        },
        "id": "JjdEwNgZi8Ks",
        "outputId": "1a44849f-3f1f-4f02-ceeb-3a6f09c6ee9d"
      },
      "execution_count": 37,
      "outputs": [
        {
          "output_type": "display_data",
          "data": {
            "text/plain": [
              "<Figure size 640x480 with 1 Axes>"
            ],
            "image/png": "[encoded data removed]"
          },
          "metadata": {}
        }
      ]
    },
    {
      "cell_type": "code",
      "source": [
        "G_LO = linearly_ordered(Gen_pop_model.copy(), \"H\")\n",
        "nx.draw_networkx(G_LO, pos = graphviz_layout(Gen_pop_model, prog = \"dot\"), with_labels = True)"
      ],
      "metadata": {
        "colab": {
          "base_uri": "https://localhost:8080/",
          "height": 406
        },
        "id": "vbiyE3AXn5hK",
        "outputId": "469e03a9-e1ae-4e4c-fccd-067c48361980"
      },
      "execution_count": 38,
      "outputs": [
        {
          "output_type": "display_data",
          "data": {
            "text/plain": [
              "<Figure size 640x480 with 1 Axes>"
            ],
            "image/png": "[encoded data removed]"
          },
          "metadata": {}
        }
      ]
    }
  ],
  "metadata": {
    "colab": {
      "provenance": [],
      "collapsed_sections": [
        "kFpk2Fi6bs1-",
        "yNfpPGO0boYG",
        "p5zcVqbGbpte",
        "6UvSuE-DYKYy",
        "amsIARH0U0ON",
        "FX67s0JXUwP2",
        "kBRve3I0tfoR",
        "xuvvdrESbSQk",
        "JY7Wvz9UtIQJ",
        "zipwiyI0i4GC"
      ]
    },
    "kernelspec": {
      "display_name": "Python 3 (ipykernel)",
      "language": "python",
      "name": "python3"
    },
    "language_info": {
      "codemirror_mode": {
        "name": "ipython",
        "version": 3
      },
      "file_extension": ".py",
      "mimetype": "text/x-python",
      "name": "python",
      "nbconvert_exporter": "python",
      "pygments_lexer": "ipython3",
      "version": "3.10.6"
    }
  },
  "nbformat": 4,
  "nbformat_minor": 0
}